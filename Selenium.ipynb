{
 "cells": [
  {
   "cell_type": "markdown",
   "metadata": {},
   "source": [
    "Selenium Google Login"
   ]
  },
  {
   "cell_type": "code",
   "execution_count": 2,
   "metadata": {},
   "outputs": [
    {
     "ename": "NoSuchWindowException",
     "evalue": "Message: no such window: target window already closed\nfrom unknown error: web view not found\n  (Session info: chrome=74.0.3729.169)\n  (Driver info: chromedriver=74.0.3729.6 (255758eccf3d244491b8a1317aa76e1ce10d57e9-refs/branch-heads/3729@{#29}),platform=Linux 4.15.0-50-generic x86_64)\n",
     "output_type": "error",
     "traceback": [
      "\u001b[0;31m---------------------------------------------------------------------------\u001b[0m",
      "\u001b[0;31mNoSuchWindowException\u001b[0m                     Traceback (most recent call last)",
      "\u001b[0;32m<ipython-input-2-6e65e8d2ec6b>\u001b[0m in \u001b[0;36m<module>\u001b[0;34m\u001b[0m\n\u001b[1;32m     12\u001b[0m \u001b[0mtime\u001b[0m\u001b[0;34m.\u001b[0m\u001b[0msleep\u001b[0m\u001b[0;34m(\u001b[0m\u001b[0;36m2\u001b[0m\u001b[0;34m)\u001b[0m\u001b[0;34m\u001b[0m\u001b[0;34m\u001b[0m\u001b[0m\n\u001b[1;32m     13\u001b[0m \u001b[0;34m\u001b[0m\u001b[0m\n\u001b[0;32m---> 14\u001b[0;31m \u001b[0melem\u001b[0m \u001b[0;34m=\u001b[0m \u001b[0mdriver\u001b[0m\u001b[0;34m.\u001b[0m\u001b[0mfind_element_by_id\u001b[0m\u001b[0;34m(\u001b[0m\u001b[0;34m\"identifierId\"\u001b[0m\u001b[0;34m)\u001b[0m\u001b[0;34m\u001b[0m\u001b[0;34m\u001b[0m\u001b[0m\n\u001b[0m\u001b[1;32m     15\u001b[0m \u001b[0melem\u001b[0m\u001b[0;34m.\u001b[0m\u001b[0msend_keys\u001b[0m\u001b[0;34m(\u001b[0m\u001b[0muser\u001b[0m\u001b[0;34m)\u001b[0m\u001b[0;34m\u001b[0m\u001b[0;34m\u001b[0m\u001b[0m\n\u001b[1;32m     16\u001b[0m \u001b[0;34m\u001b[0m\u001b[0m\n",
      "\u001b[0;32m~/anaconda3/lib/python3.7/site-packages/selenium/webdriver/remote/webdriver.py\u001b[0m in \u001b[0;36mfind_element_by_id\u001b[0;34m(self, id_)\u001b[0m\n\u001b[1;32m    358\u001b[0m             \u001b[0melement\u001b[0m \u001b[0;34m=\u001b[0m \u001b[0mdriver\u001b[0m\u001b[0;34m.\u001b[0m\u001b[0mfind_element_by_id\u001b[0m\u001b[0;34m(\u001b[0m\u001b[0;34m'foo'\u001b[0m\u001b[0;34m)\u001b[0m\u001b[0;34m\u001b[0m\u001b[0;34m\u001b[0m\u001b[0m\n\u001b[1;32m    359\u001b[0m         \"\"\"\n\u001b[0;32m--> 360\u001b[0;31m         \u001b[0;32mreturn\u001b[0m \u001b[0mself\u001b[0m\u001b[0;34m.\u001b[0m\u001b[0mfind_element\u001b[0m\u001b[0;34m(\u001b[0m\u001b[0mby\u001b[0m\u001b[0;34m=\u001b[0m\u001b[0mBy\u001b[0m\u001b[0;34m.\u001b[0m\u001b[0mID\u001b[0m\u001b[0;34m,\u001b[0m \u001b[0mvalue\u001b[0m\u001b[0;34m=\u001b[0m\u001b[0mid_\u001b[0m\u001b[0;34m)\u001b[0m\u001b[0;34m\u001b[0m\u001b[0;34m\u001b[0m\u001b[0m\n\u001b[0m\u001b[1;32m    361\u001b[0m \u001b[0;34m\u001b[0m\u001b[0m\n\u001b[1;32m    362\u001b[0m     \u001b[0;32mdef\u001b[0m \u001b[0mfind_elements_by_id\u001b[0m\u001b[0;34m(\u001b[0m\u001b[0mself\u001b[0m\u001b[0;34m,\u001b[0m \u001b[0mid_\u001b[0m\u001b[0;34m)\u001b[0m\u001b[0;34m:\u001b[0m\u001b[0;34m\u001b[0m\u001b[0;34m\u001b[0m\u001b[0m\n",
      "\u001b[0;32m~/anaconda3/lib/python3.7/site-packages/selenium/webdriver/remote/webdriver.py\u001b[0m in \u001b[0;36mfind_element\u001b[0;34m(self, by, value)\u001b[0m\n\u001b[1;32m    976\u001b[0m         return self.execute(Command.FIND_ELEMENT, {\n\u001b[1;32m    977\u001b[0m             \u001b[0;34m'using'\u001b[0m\u001b[0;34m:\u001b[0m \u001b[0mby\u001b[0m\u001b[0;34m,\u001b[0m\u001b[0;34m\u001b[0m\u001b[0;34m\u001b[0m\u001b[0m\n\u001b[0;32m--> 978\u001b[0;31m             'value': value})['value']\n\u001b[0m\u001b[1;32m    979\u001b[0m \u001b[0;34m\u001b[0m\u001b[0m\n\u001b[1;32m    980\u001b[0m     \u001b[0;32mdef\u001b[0m \u001b[0mfind_elements\u001b[0m\u001b[0;34m(\u001b[0m\u001b[0mself\u001b[0m\u001b[0;34m,\u001b[0m \u001b[0mby\u001b[0m\u001b[0;34m=\u001b[0m\u001b[0mBy\u001b[0m\u001b[0;34m.\u001b[0m\u001b[0mID\u001b[0m\u001b[0;34m,\u001b[0m \u001b[0mvalue\u001b[0m\u001b[0;34m=\u001b[0m\u001b[0;32mNone\u001b[0m\u001b[0;34m)\u001b[0m\u001b[0;34m:\u001b[0m\u001b[0;34m\u001b[0m\u001b[0;34m\u001b[0m\u001b[0m\n",
      "\u001b[0;32m~/anaconda3/lib/python3.7/site-packages/selenium/webdriver/remote/webdriver.py\u001b[0m in \u001b[0;36mexecute\u001b[0;34m(self, driver_command, params)\u001b[0m\n\u001b[1;32m    319\u001b[0m         \u001b[0mresponse\u001b[0m \u001b[0;34m=\u001b[0m \u001b[0mself\u001b[0m\u001b[0;34m.\u001b[0m\u001b[0mcommand_executor\u001b[0m\u001b[0;34m.\u001b[0m\u001b[0mexecute\u001b[0m\u001b[0;34m(\u001b[0m\u001b[0mdriver_command\u001b[0m\u001b[0;34m,\u001b[0m \u001b[0mparams\u001b[0m\u001b[0;34m)\u001b[0m\u001b[0;34m\u001b[0m\u001b[0;34m\u001b[0m\u001b[0m\n\u001b[1;32m    320\u001b[0m         \u001b[0;32mif\u001b[0m \u001b[0mresponse\u001b[0m\u001b[0;34m:\u001b[0m\u001b[0;34m\u001b[0m\u001b[0;34m\u001b[0m\u001b[0m\n\u001b[0;32m--> 321\u001b[0;31m             \u001b[0mself\u001b[0m\u001b[0;34m.\u001b[0m\u001b[0merror_handler\u001b[0m\u001b[0;34m.\u001b[0m\u001b[0mcheck_response\u001b[0m\u001b[0;34m(\u001b[0m\u001b[0mresponse\u001b[0m\u001b[0;34m)\u001b[0m\u001b[0;34m\u001b[0m\u001b[0;34m\u001b[0m\u001b[0m\n\u001b[0m\u001b[1;32m    322\u001b[0m             response['value'] = self._unwrap_value(\n\u001b[1;32m    323\u001b[0m                 response.get('value', None))\n",
      "\u001b[0;32m~/anaconda3/lib/python3.7/site-packages/selenium/webdriver/remote/errorhandler.py\u001b[0m in \u001b[0;36mcheck_response\u001b[0;34m(self, response)\u001b[0m\n\u001b[1;32m    240\u001b[0m                 \u001b[0malert_text\u001b[0m \u001b[0;34m=\u001b[0m \u001b[0mvalue\u001b[0m\u001b[0;34m[\u001b[0m\u001b[0;34m'alert'\u001b[0m\u001b[0;34m]\u001b[0m\u001b[0;34m.\u001b[0m\u001b[0mget\u001b[0m\u001b[0;34m(\u001b[0m\u001b[0;34m'text'\u001b[0m\u001b[0;34m)\u001b[0m\u001b[0;34m\u001b[0m\u001b[0;34m\u001b[0m\u001b[0m\n\u001b[1;32m    241\u001b[0m             \u001b[0;32mraise\u001b[0m \u001b[0mexception_class\u001b[0m\u001b[0;34m(\u001b[0m\u001b[0mmessage\u001b[0m\u001b[0;34m,\u001b[0m \u001b[0mscreen\u001b[0m\u001b[0;34m,\u001b[0m \u001b[0mstacktrace\u001b[0m\u001b[0;34m,\u001b[0m \u001b[0malert_text\u001b[0m\u001b[0;34m)\u001b[0m\u001b[0;34m\u001b[0m\u001b[0;34m\u001b[0m\u001b[0m\n\u001b[0;32m--> 242\u001b[0;31m         \u001b[0;32mraise\u001b[0m \u001b[0mexception_class\u001b[0m\u001b[0;34m(\u001b[0m\u001b[0mmessage\u001b[0m\u001b[0;34m,\u001b[0m \u001b[0mscreen\u001b[0m\u001b[0;34m,\u001b[0m \u001b[0mstacktrace\u001b[0m\u001b[0;34m)\u001b[0m\u001b[0;34m\u001b[0m\u001b[0;34m\u001b[0m\u001b[0m\n\u001b[0m\u001b[1;32m    243\u001b[0m \u001b[0;34m\u001b[0m\u001b[0m\n\u001b[1;32m    244\u001b[0m     \u001b[0;32mdef\u001b[0m \u001b[0m_value_or_default\u001b[0m\u001b[0;34m(\u001b[0m\u001b[0mself\u001b[0m\u001b[0;34m,\u001b[0m \u001b[0mobj\u001b[0m\u001b[0;34m,\u001b[0m \u001b[0mkey\u001b[0m\u001b[0;34m,\u001b[0m \u001b[0mdefault\u001b[0m\u001b[0;34m)\u001b[0m\u001b[0;34m:\u001b[0m\u001b[0;34m\u001b[0m\u001b[0;34m\u001b[0m\u001b[0m\n",
      "\u001b[0;31mNoSuchWindowException\u001b[0m: Message: no such window: target window already closed\nfrom unknown error: web view not found\n  (Session info: chrome=74.0.3729.169)\n  (Driver info: chromedriver=74.0.3729.6 (255758eccf3d244491b8a1317aa76e1ce10d57e9-refs/branch-heads/3729@{#29}),platform=Linux 4.15.0-50-generic x86_64)\n"
     ]
    }
   ],
   "source": [
    "import time\n",
    "from selenium import webdriver \n",
    "\n",
    "user = \"\"\n",
    "pw = \"\"\n",
    "\n",
    "driverpath='/home/iim/Desktop/chromedriver'\n",
    "\n",
    "driver = webdriver.Chrome(driverpath)\n",
    "\n",
    "driver.get(\"https://accounts.google.com/signin/oauth/identifier?client_id=157101835696-ooapojlodmuabs2do2vuhhnf90bccmoi.apps.googleusercontent.com&as=niZ7acXwkSUcVRklvQQ-ww&destination=https%3A%2F%2Fdialogflow.com&approval_state=!ChRoMFUxTzlVWllXa2tBcnU5OWxRaxIfd19Mbjk1ME12WDRiOEhuU1JuY2dubXJlUTNjMHJoWQ%E2%88%99AJDr988AAAAAXOeIp3NncdyW61P0FvMC_F0CG_TgnUFj&oauthgdpr=1&xsrfsig=ChkAeAh8T6yxyw86kqjImbU5TtHZavrjK8qDEg5hcHByb3ZhbF9zdGF0ZRILZGVzdGluYXRpb24SBXNvYWN1Eg9vYXV0aHJpc2t5c2NvcGU&flowName=GeneralOAuthFlow\")\n",
    "time.sleep(2)\n",
    "\n",
    "elem = driver.find_element_by_id(\"identifierId\")\n",
    "elem.send_keys(user)\n",
    "\n",
    "\n",
    "\n",
    "button = driver.find_element_by_xpath('//*[@id=\"identifierNext\"]/content/span')\n",
    "button.click()\n",
    "time.sleep(2)\n",
    "\n",
    "elem =  driver.find_element_by_xpath('//*[@id=\"password\"]/div[1]/div/div[1]/input')\n",
    "elem.send_keys(pw)\n",
    "\n",
    "\n",
    "button = driver.find_element_by_xpath('//*[@id=\"passwordNext\"]/content/span')\n",
    "button.click()\n",
    "time.sleep(3)"
   ]
  },
  {
   "cell_type": "markdown",
   "metadata": {},
   "source": [
    "Convert HTML TO TXT"
   ]
  },
  {
   "cell_type": "code",
   "execution_count": 5,
   "metadata": {},
   "outputs": [
    {
     "name": "stdout",
     "output_type": "stream",
     "text": [
      "b\"\\n\\n\\n\\n\\n\\n\\n\\nFAQ \\xe2\\x80\\x94 Property Management One\\n\\n\\n\\n\\n\\n\\n\\n\\n\\n\\n\\n\\n\\n\\n\\n\\n\\n\\n\\n\\n\\n\\n\\n`\\n.fa-cogs{\\ncolor:#679098;\\n}\\n\\n\\n\\n\\n\\n\\n\\n\\nWelcome\\n\\n\\nABOUT\\n\\n\\nSERVICES\\n\\n\\nFAQ\\n\\n\\n\\n\\nCONTACT\\n\\n\\n\\n\\nLOCATION & INQUIRIES\\n\\n\\n\\n\\nMAINTENANCE\\n\\n\\n\\n\\n\\n\\n\\n\\n\\n\\n\\n\\n\\n\\n\\n\\n\\n\\n\\n\\n\\n\\n\\n\\n\\n\\n\\nWelcome\\n\\n\\nABOUT\\n\\n\\nSERVICES\\n\\n\\nFAQ\\n\\n\\n\\n\\nCONTACT\\n\\n\\n\\n\\nLOCATION & INQUIRIES\\n\\n\\n\\n\\nMAINTENANCE\\n\\n\\n\\n\\n\\n\\n\\n\\n\\n\\n\\n\\n\\n\\n\\n\\n\\n\\n\\nFAQ\\n\\nFrequently Asked Questions for Landlords\\n\\n\\n\\n\\n\\n\\nWhy should I choose Property Management One?We have the experience & \\xe2\\x80\\x9cknow-how\\xe2\\x80\\x9d to make your real estate investment a success. When you hire us, you can expect the very best management solutions, we will make every effort to earn your trust. There is no better choice for your investment and peace of mind.\\xc2\\xa0Our corporate office in the Presidio in San Francisco, California is an ideal location for servicing the Bay Area.\\xc2\\xa0Our success lies in offering you the reliable, efficient property management service that you deserve. Our experience gives us the expertise in local laws, maintenance needs, and communications skills.\\xc2\\xa0Why should I hire a professional property management company to manage my property?If you lack the time or expertise needed for day-to-day management of your buildings, an expert property manager can help you make a big difference in your investment success. We are your eyes and ears on deck.How can I know what my home will rent for?We do a detailed analysis of the rental market, factoring in the condition, location, and amenities of your property along with the current rental market.What happens when a tenant is in breach of the lease contract?Once a violation has occurred, we will post legal notice to the tenant with an opportunity to cure the violation. If the violation is not cured, it will be forwarded to our attorney for eviction filings.When does an owner get his/her check?\\xc2\\xa0We make every effort to insure your funds are received no later than the 15th of the current month. Direct deposit of any owner's monthly check is available at no extra charge. In addition, we include an itemized accounting statement.Will I know what is going on with my property?Yes. We will communicate with you throughout our agreement and keep you aware of any issues that may arise. We will contact you at reasonable times to discuss repairs and notify you of the residents notice to move.How often are inspections done at my property?Before a new resident moves into your property, we will complete a detailed move-in checklist with the resident, which provides written documentation as to the condition of your property. Thereafter, each year we send a written notice to our property owners to recommend a safety and maintenance inspection. If approved by the owner, a certified home inspector is scheduled to inspect the property. During this inspection, the inspector will make sure the smoke alarms work, test for plumbing leaks, check the caulk and grout in the bathrooms, examine the exterior painting, and complete an inspection report.\\xc2\\xa0How do you handle maintenance requests?Residents may phone, fax, or mail their requests to us, and they can request maintenance online at our website. After we receive a repair request, we may contact the resident and ask them questions, which will help us determine the exact nature of the problem before sending a service technician. If the resident has a legitimate problem, we will schedule the repair. Most repairs are scheduled within one business day. Comfort items such as air conditioning, no hot water or heat, receive the highest priority and are usually attended to the same or next business day.Do you handle problems late at night and during weekends?Yes. Residents can contact us 24 hours a day and 7 days a week to respond to emergencies. We will then talk with the resident to determine how to proceed. Many times we can solve the problem over the phone, saving you the cost of an emergency trip charge.Can you pay my monthly property bills for me?Yes. We can pay your Mortgage, Insurance, Homeowners fees, etc. There must be sufficient cash flow from the property to cover such expenses and we will ask you to advance us the necessary funds for this purposeCan you start managing my properties today?Yes. To set up a free consultation to discuss your property in detail, please contact us.\\n\\n\\n\\n\\n\\nTop\\n\\n\\n\\ninfo@pm1sf.com \\xc2\\xa0 \\xc2\\xa0\\xc2\\xa0+1 415 674 1595\\xc2\\xa0\\n\\n\\n\\n\\n\\n\\n\\n\\n\\n\\n\\n\\n\\n\\xc2\\xa9 2016 Property Management One. Some Rights Reserved.\\n\\n\\n\\n\\n\\n\\n\\n\"\n"
     ]
    }
   ],
   "source": [
    "from bs4 import BeautifulSoup as Soup\n",
    "import re, nltk\n",
    "from urllib.request import urlopen\n",
    " \n",
    "url = 'http://pm1sf.com/faq'\n",
    "html = urlopen(url).read() #make the request to the url\n",
    "soup = Soup(html) #using Soup on the responde read\n",
    "for script in soup([\"script\", \"style\"]): #You need to extract this <script> and <style> tags\n",
    "    script.extract() #strip them off\n",
    "text = soup.getText() #this is the memthod that I had like 40 min problems\n",
    "text = text.encode('utf-8') #make sure to encode your text to be compatible\n",
    "#raw = nltk.clean_html(document)\n",
    "print(text)\n"
   ]
  },
  {
   "cell_type": "code",
   "execution_count": null,
   "metadata": {},
   "outputs": [],
   "source": []
  },
  {
   "cell_type": "code",
   "execution_count": null,
   "metadata": {},
   "outputs": [],
   "source": []
  }
 ],
 "metadata": {
  "kernelspec": {
   "display_name": "Python 3",
   "language": "python",
   "name": "python3"
  },
  "language_info": {
   "codemirror_mode": {
    "name": "ipython",
    "version": 3
   },
   "file_extension": ".py",
   "mimetype": "text/x-python",
   "name": "python",
   "nbconvert_exporter": "python",
   "pygments_lexer": "ipython3",
   "version": "3.7.3"
  }
 },
 "nbformat": 4,
 "nbformat_minor": 2
}
